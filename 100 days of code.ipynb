{
 "cells": [
  {
   "cell_type": "code",
   "execution_count": 1,
   "id": "00f74995",
   "metadata": {},
   "outputs": [
    {
     "name": "stdout",
     "output_type": "stream",
     "text": [
      "what is your name?zahra\n",
      "Hello zahra!\n"
     ]
    }
   ],
   "source": [
    "#day1\n",
    "#(ctrl+inter)->RUN\n",
    "# (\\n)--> next line in a sentence\n",
    "#nested codes e.g:\n",
    "print(\"Hello \" + input(\"what is your name?\") + \"!\")\n",
    "# to pond a line use (ctrl+/)\n",
    "# to undo your changes use(ctrl+z)\n",
    "# try keep your code REAdABLE when you're writing a program choose right names for variables\n",
    "\n"
   ]
  },
  {
   "cell_type": "code",
   "execution_count": 2,
   "id": "64b56dbc",
   "metadata": {},
   "outputs": [
    {
     "name": "stdout",
     "output_type": "stream",
     "text": [
      "whats your name?zar\n",
      "length:3\n",
      "what is your name?zar\n",
      "3\n"
     ]
    }
   ],
   "source": [
    "#day1_project\n",
    "name = input(\"whats your name?\")\n",
    "print(\"length:\" + str(len(name)))\n",
    "\n",
    "#using nested codes:\n",
    "print(len(input(\"what is your name?\")))"
   ]
  },
  {
   "cell_type": "code",
   "execution_count": 3,
   "id": "318d5c9e",
   "metadata": {},
   "outputs": [
    {
     "name": "stdout",
     "output_type": "stream",
     "text": [
      "h\n",
      "2.67\n",
      "2\n"
     ]
    }
   ],
   "source": [
    "#day2\n",
    "#subscripting:pulling out a paticular charecter from an string usung []\n",
    "print(\"hello\"[0])\n",
    "#you can check the type of data using type()\n",
    "# to round a number by a certain amount use round()\n",
    "print(round(8/3 ,2))\n",
    "# if you want an int answer from a division use // e.g: (8//3)\n",
    "print(8//3)"
   ]
  },
  {
   "cell_type": "code",
   "execution_count": 1,
   "id": "cd95c462",
   "metadata": {},
   "outputs": [
    {
     "name": "stdout",
     "output_type": "stream",
     "text": [
      "type a two digit number: 12\n",
      "3\n"
     ]
    }
   ],
   "source": [
    "#day2_project\n",
    "number = input(\"type a two digit number: \")\n",
    "print(int(number[0]) + int(number[1]))\n"
   ]
  },
  {
   "cell_type": "code",
   "execution_count": 4,
   "id": "d0cb7700",
   "metadata": {},
   "outputs": [
    {
     "name": "stdout",
     "output_type": "stream",
     "text": [
      "what is you current age?21\n",
      "if you live 90 years,\n",
      "you have 69 years, 828 months, 3312 weeks and 23184 days left.\n"
     ]
    }
   ],
   "source": [
    "#day2_life in weeks\n",
    "age = int(input(\"what is you current age?\"))\n",
    "year = 90 - age\n",
    "month = year * 12\n",
    "week = month * 4\n",
    "days = week * 7\n",
    "print(f\"if you live 90 years,\\nyou have {year} years, {month} months, {week} weeks and {days} days left.\")"
   ]
  },
  {
   "cell_type": "code",
   "execution_count": 2,
   "id": "cf779436",
   "metadata": {},
   "outputs": [
    {
     "name": "stdout",
     "output_type": "stream",
     "text": [
      "Welcome to Tip Calculator.\n",
      "how much was the total bill? $158\n",
      "how many people to split the bill?3\n",
      "what percentage tip do you want to give? 10, 12 or 15? %15\n",
      "each person should pay : $60.57\n"
     ]
    }
   ],
   "source": [
    "#day2_tip calculator\n",
    "print(\"Welcome to Tip Calculator.\")\n",
    "bill = float(input (\"how much was the total bill? $\"))\n",
    "split = float(input(\"how many people to split the bill?\"))\n",
    "tip = float(input(\"what percentage tip do you want to give? 10, 12 or 15? %\"))\n",
    "pay = (bill + (bill * tip * 0.01)) / split\n",
    "final_pay = round(pay, 2)\n",
    "print(f\"each person should pay : ${final_pay}\")"
   ]
  },
  {
   "cell_type": "code",
   "execution_count": null,
   "id": "91b163f9",
   "metadata": {},
   "outputs": [],
   "source": [
    "#day3\n",
    "#use .lower() to turn a string into lower case\n",
    "#use .count(\"something you wanna count\") to count that sth in a string"
   ]
  },
  {
   "cell_type": "code",
   "execution_count": null,
   "id": "13479ddf",
   "metadata": {},
   "outputs": [],
   "source": [
    "#day3-odd or even\n",
    "num = int(input(\"which number do you want to check?\"))\n",
    "if num % 2 == 0:\n",
    "    print(\"it is an even num.\")\n",
    "else:\n",
    "    print(\" it is an odd num.\")"
   ]
  },
  {
   "cell_type": "code",
   "execution_count": 3,
   "id": "f511dcd4",
   "metadata": {},
   "outputs": [
    {
     "name": "stdout",
     "output_type": "stream",
     "text": [
      "what is your height(m)?1.6\n",
      "what is your weight(kg)50\n",
      "your BMI is 19.53, and you have a normal weight.\n"
     ]
    }
   ],
   "source": [
    "#day3-BMI calculator 0.2\n",
    "hight = float(input(\"what is your height(m)?\"))\n",
    "weight = float(input(\"what is your weight(kg)\"))\n",
    "bmi1 = weight / (hight ** 2)\n",
    "bmi = round(bmi1, 2)\n",
    "if bmi < 18.5:\n",
    "    print(f\"your BMI is {bmi}, and you are underweight.\")\n",
    "elif bmi < 25:\n",
    "    print(f\"your BMI is {bmi}, and you have a normal weight.\")\n",
    "elif bmi < 30:\n",
    "    print(f\"your BMI is {bmi}, and you are overweight.\")\n",
    "elif bmi < 35:\n",
    "    print(f\"your BMI is {bmi}, and you are obese.\")\n",
    "else:\n",
    "    print(f\"your BMI is {bmi}, and you are clinically obese.\")"
   ]
  },
  {
   "cell_type": "code",
   "execution_count": 3,
   "id": "60929ac0",
   "metadata": {},
   "outputs": [
    {
     "name": "stdout",
     "output_type": "stream",
     "text": [
      "which year do you want to check?2023\n",
      "it is a leap year\n"
     ]
    }
   ],
   "source": [
    "#day3-leap year\n",
    "a = int(input(\"which year do you want to check?\"))\n",
    "if a % 4 == 0:\n",
    "    if a % 100 ==0:\n",
    "        if a % 400 ==0 :\n",
    "            print(\"it is a leap year\")\n",
    "        else:\n",
    "            print(\"it is not a leap year\")\n",
    "    else:\n",
    "        print(\"it is a leap year\")\n",
    "else:\n",
    "    print(\"it is a leap year\")"
   ]
  },
  {
   "cell_type": "code",
   "execution_count": 4,
   "id": "cc07ae4c",
   "metadata": {},
   "outputs": [
    {
     "name": "stdout",
     "output_type": "stream",
     "text": [
      "what size pizza do you want? S , M , L?M\n",
      "do you want to add pepperonies? Y or NY\n",
      "do you want extra cheese? Y or NY\n",
      "your total bill is $25\n"
     ]
    }
   ],
   "source": [
    "#day3-Pizza order.\n",
    "bill = 0\n",
    "size = str(input(\"what size pizza do you want? S , M , L?\"))\n",
    "add_pepperonies = str(input(\"do you want to add pepperonies? Y or N\"))\n",
    "extra_cheese = str(input(\"do you want extra cheese? Y or N\"))\n",
    "if size == \"S\":\n",
    "    bill += 15\n",
    "    if add_pepperonies == \"Y\":\n",
    "        bill += 2\n",
    "elif size == \"M\":\n",
    "    bill += 20\n",
    "    if add_pepperonies == \"Y\":\n",
    "        bill += 3\n",
    "elif size == \"L\":\n",
    "    bill += 25\n",
    "    if add_pepperonies == \"Y\":\n",
    "        bill += 3\n",
    "if extra_cheese == \"Y\":\n",
    "    bill += 2\n",
    "else:\n",
    "    print(\"wrong input\")\n",
    "print(f\"your total bill is ${bill}\")"
   ]
  },
  {
   "cell_type": "code",
   "execution_count": 5,
   "id": "26df4202",
   "metadata": {},
   "outputs": [
    {
     "name": "stdout",
     "output_type": "stream",
     "text": [
      "what is your name?Zahra\n",
      "what is their name?Mohammad\n",
      "your love score is11\n"
     ]
    }
   ],
   "source": [
    "#day3-LOVE CALCULATOR\n",
    "a = input(\"what is your name?\")\n",
    "b = input(\"what is their name?\")\n",
    "la = a.lower()\n",
    "lb = b.lower()\n",
    "true = la.count(\"t\") + la.count(\"r\") + la.count(\"u\") + la.count(\"e\") + lb.count(\"t\") + lb.count(\"r\") + lb.count(\"u\") + lb.count(\"e\")\n",
    "love =  la.count(\"l\") + la.count(\"o\") + la.count(\"v\") + la.count(\"e\") + lb.count(\"l\") + lb.count(\"o\") + lb.count(\"v\") + lb.count(\"e\") \n",
    "score = str(true) + str(love)\n",
    "score = int(score)\n",
    "\n",
    "if score < 10 or score > 90:\n",
    "    print(f\"your love score is {score}, you go toghather like coke and mentose!\")\n",
    "elif 40 < score < 55:\n",
    "    print(f\"your love score is {score}, you go toghather just okay.\")\n",
    "else:\n",
    "    print(f\"your love score is{score}\")"
   ]
  },
  {
   "cell_type": "code",
   "execution_count": 1,
   "id": "6f75b028",
   "metadata": {},
   "outputs": [
    {
     "name": "stdout",
     "output_type": "stream",
     "text": [
      "\n",
      " <<WELCOME TO TREASURE ISLAND>>\n",
      "\n",
      "                            _.--.\n",
      "                        _.-'_:-'||\n",
      "                    _.-'_.-::::'||\n",
      "               _.-:'_.-::::::'  ||\n",
      "             .'`-.-:::::::'     ||\n",
      "            /.'`;|:::::::'      ||_\n",
      "           ||   ||::::::'     _.;._'-._\n",
      "           ||   ||:::::'  _.-!oo @.!-._'-.\n",
      "           \\'.  ||:::::.-!()oo @!()@.-'_.|\n",
      "            '.'-;|:.-'.&$@.& ()$%-'o.'\\U||\n",
      "              `>'-.!@%()@'@_%-'_.-o _.|'||\n",
      "               ||-._'-.@.-'_.-' _.-o  |'||\n",
      "               ||=[ '-._.-\\U/.-'    o |'||\n",
      "               || '-.]=|| |'|      o  |'||\n",
      "               ||      || |'|        _| ';\n",
      "               ||      || |'|    _.-'_.-'\n",
      "               |'-._   || |'|_.-'_.-'\n",
      "                '-._'-.|| |' `_.-'\n",
      "                    '-.||_/.-'\n",
      "\n",
      "\n",
      "you have to find the lost treasure,lets start our adventure:\n",
      "you're at a cross road, do you want to go \"left\" or \"right\"?left\n",
      "Good choice!\n",
      "you faced a lion, do you 'fight' him or you 'run'?run\n",
      "you arrived at a house with 3 doors, which one would you inter?'red','yellow'or 'blue'?blue\n",
      "congratulations! you won the mission!\n"
     ]
    }
   ],
   "source": [
    "#day3-TREASURE ISLAND\n",
    "print( r'''\n",
    " <<WELCOME TO TREASURE ISLAND>>\n",
    "\n",
    "                            _.--.\n",
    "                        _.-'_:-'||\n",
    "                    _.-'_.-::::'||\n",
    "               _.-:'_.-::::::'  ||\n",
    "             .'`-.-:::::::'     ||\n",
    "            /.'`;|:::::::'      ||_\n",
    "           ||   ||::::::'     _.;._'-._\n",
    "           ||   ||:::::'  _.-!oo @.!-._'-.\n",
    "           \\'.  ||:::::.-!()oo @!()@.-'_.|\n",
    "            '.'-;|:.-'.&$@.& ()$%-'o.'\\U||\n",
    "              `>'-.!@%()@'@_%-'_.-o _.|'||\n",
    "               ||-._'-.@.-'_.-' _.-o  |'||\n",
    "               ||=[ '-._.-\\U/.-'    o |'||\n",
    "               || '-.]=|| |'|      o  |'||\n",
    "               ||      || |'|        _| ';\n",
    "               ||      || |'|    _.-'_.-'\n",
    "               |'-._   || |'|_.-'_.-'\n",
    "                '-._'-.|| |' `_.-'\n",
    "                    '-.||_/.-'\n",
    "\n",
    "''' )\n",
    "print(\"you have to find the lost treasure,\"\n",
    "      \"lets start our adventure:\")\n",
    "a = input('you\\'re at a cross road, do you want to go \"left\" or \"right\"?').lower()\n",
    "if a == \"left\":\n",
    "    print(\"Good choice!\")\n",
    "    b = input(\"you faced a lion, do you 'fight' him or you 'run'?\").lower()\n",
    "    if b == \"run\":\n",
    "        c = input(\"you arrived at a house with 3 doors, which one would you inter?'red','yellow'or 'blue'?\").lower()\n",
    "        if c == \"blue\":\n",
    "            print(\"congratulations! you won the mission!\")\n",
    "        elif c == \"yellow\":\n",
    "            print(\"you intered a room full of poision gas. you died:(\")\n",
    "        else:\n",
    "            print(\"you intered a room full of fire!. you died:(\")\n",
    "    else:\n",
    "        print(\"lion killed you!:(\")\n",
    "else:\n",
    "    print(\"you were bitten by a snake, you died:(\")\n",
    "    \n"
   ]
  },
  {
   "cell_type": "code",
   "execution_count": 9,
   "id": "536a3c4f",
   "metadata": {},
   "outputs": [
    {
     "name": "stdout",
     "output_type": "stream",
     "text": [
      "7\n",
      "3.6744113692917244\n"
     ]
    }
   ],
   "source": [
    "#day4-\n",
    "#to use modules you need to creat a new file and write your module codes in it. then by importing your file\n",
    "#in your main file you can use the information in your modules. same function as ready modules of python.\n",
    "import random\n",
    "random_intiger = random.randint(1,10)\n",
    "print(random_intiger)\n",
    "random_float = random.random()\n",
    "#random.randint() will find a random float between [0,1) if you want a random float between [0,5) you can * 5.\n",
    "c = random_float * 5\n",
    "print(c)"
   ]
  },
  {
   "cell_type": "code",
   "execution_count": 8,
   "id": "f44c18d4",
   "metadata": {},
   "outputs": [
    {
     "name": "stdout",
     "output_type": "stream",
     "text": [
      "Heads!\n"
     ]
    }
   ],
   "source": [
    "#day4-head or tail\n",
    "import random\n",
    "a = random.randint(0,1)\n",
    "if a == 0:\n",
    "    print(\"Heads!\")\n",
    "else:\n",
    "    print(\"Tails!\")"
   ]
  },
  {
   "cell_type": "code",
   "execution_count": 9,
   "id": "d998a9f2",
   "metadata": {},
   "outputs": [
    {
     "name": "stdout",
     "output_type": "stream",
     "text": [
      "Give me everybody's names, seperated by a comma!z, djs, djs, lkdjs, kjl, jhk\n",
      "z is going to buy the meal!\n"
     ]
    }
   ],
   "source": [
    "#day4-Who's paying?\n",
    "#.split() will split the items of str and put them all in a list.\n",
    "name = input(\"Give me everybody's names, seperated by a comma!\")\n",
    "names = name.split(\", \")\n",
    "b = random.randint(1,len(names) )\n",
    "print(names[b - 1] + \" is going to buy the meal!\")"
   ]
  },
  {
   "cell_type": "code",
   "execution_count": 14,
   "id": "a008418a",
   "metadata": {},
   "outputs": [
    {
     "name": "stdout",
     "output_type": "stream",
     "text": [
      "Give me everybody's names, seperated by a comma!mb,lkjl,vbn,jvhf,;l,vvc\n",
      "vvc is going to buy the meal today!\n"
     ]
    }
   ],
   "source": [
    "#day4-Who's paying? 0.2\n",
    "# random.choice() will randomly choose an item from a list.\n",
    "names = input(\"Give me everybody's names, seperated by a comma!\").split(\",\")\n",
    "a = random.choice(names)\n",
    "print( a + \" is going to buy the meal today!\")"
   ]
  },
  {
   "cell_type": "code",
   "execution_count": 15,
   "id": "ef31a81e",
   "metadata": {},
   "outputs": [
    {
     "name": "stdout",
     "output_type": "stream",
     "text": [
      "['⬜️', '⬜️', '⬜️']\n",
      "['⬜️', '⬜️', '⬜️']\n",
      "['⬜️', '⬜️', '⬜️']\n",
      "where do you want to put th treasure?\n",
      "21\n",
      "['⬜️', 'X', '⬜️']\n",
      "['⬜️', '⬜️', '⬜️']\n",
      "['⬜️', '⬜️', '⬜️']\n"
     ]
    }
   ],
   "source": [
    "#day4-Treasure map\n",
    "row1 = [\"⬜️\",\"⬜️\",\"⬜️\"]\n",
    "row2 = [\"⬜️\",\"⬜️\",\"⬜️\"]\n",
    "row3 = [\"⬜️\",\"⬜️\",\"⬜️\"]\n",
    "map = [row1, row2, row3]\n",
    "print(f\"{row1}\\n{row2}\\n{row3}\")\n",
    "position = input(\"where do you want to put th treasure?\\n\")\n",
    "vertical = int(position[0])\n",
    "horizental = int(position[1])\n",
    "a = map[horizental - 1]\n",
    "a[vertical - 1] = \"X\"\n",
    "print(f\"{row1}\\n{row2}\\n{row3}\")"
   ]
  },
  {
   "cell_type": "code",
   "execution_count": 3,
   "id": "4fb3dfc9",
   "metadata": {},
   "outputs": [
    {
     "name": "stdout",
     "output_type": "stream",
     "text": [
      "What do you choose?(Type 0 for rock,1 for paper and 2 for scissors)0\n",
      "you choose: \n",
      "\n",
      "    _______\n",
      "---'   ____)\n",
      "      (_____)\n",
      "      (_____)\n",
      "      (____)\n",
      "---.__(___)\n",
      "\n",
      "computer choose: \n",
      "\n",
      "     _______\n",
      "---'    ____)____\n",
      "           ______)\n",
      "          _______)\n",
      "         _______)\n",
      "---.__________)\n",
      "\n",
      "YOU LOSE!\n"
     ]
    }
   ],
   "source": [
    "#day4-ROCK,PAPER,SCISSORS!\n",
    "rock = \"\"\"\n",
    "    _______\n",
    "---'   ____)\n",
    "      (_____)\n",
    "      (_____)\n",
    "      (____)\n",
    "---.__(___)\n",
    "\"\"\"\n",
    "paper = \"\"\"\n",
    "     _______\n",
    "---'    ____)____\n",
    "           ______)\n",
    "          _______)\n",
    "         _______)\n",
    "---.__________)\n",
    "\"\"\"\n",
    "scissors = \"\"\"\n",
    "    _______\n",
    "---'   ____)____\n",
    "          ______)\n",
    "       __________)\n",
    "      (____)\n",
    "---.__(___)\n",
    "\"\"\"\n",
    "rps = [rock, paper, scissors]\n",
    "import random\n",
    "com = random.randint(0,2)\n",
    "hum = int(input(\"What do you choose?(Type 0 for rock,1 for paper and 2 for scissors)\"))\n",
    "print(f\"you choose: \\n\" + rps[hum])\n",
    "print(f\"computer choose: \\n\" + rps[com])\n",
    "if hum == com:\n",
    "    print(\"THE GAME IS TIED!\")\n",
    "elif hum == 0:\n",
    "    if com == 1:\n",
    "        print(\"YOU LOSE!\")\n",
    "    elif com == 2:\n",
    "        print(\"YOU WON!\")\n",
    "elif hum == 1:\n",
    "    if com == 0:\n",
    "        print(\"YOU WON!\")\n",
    "    elif com == 2:\n",
    "        print(\"YOU LOSE!\")\n",
    "elif hum == 2:\n",
    "    if com == 0:\n",
    "        print(\"YOU LOSE!\")\n",
    "    elif com == 1:\n",
    "        print(\"YOU WON!\")\n",
    "\n",
    "else:\n",
    "    print(\"you typed an invalid number, you lose!\")"
   ]
  },
  {
   "cell_type": "code",
   "execution_count": 8,
   "id": "af11db10",
   "metadata": {},
   "outputs": [
    {
     "name": "stdout",
     "output_type": "stream",
     "text": [
      "type the list of hights of people separated by a space: 121 182 165 189 140\n",
      "[121, 182, 165, 189, 140]\n",
      "sum of hights : 797\n",
      "number of people : 5\n",
      "average: 159\n"
     ]
    }
   ],
   "source": [
    "#day5-for loops\n",
    "#average hight0.1(for loops)\n",
    "total = 0\n",
    "number = 0\n",
    "hights = input(\"type the list of hights of people separated by a space: \").split( )\n",
    "for h in range(0, len(hights)):\n",
    "    hights[h] = int(hights[h])\n",
    "print(hights)\n",
    "for h in hights:\n",
    "    total += h\n",
    "print(f\"sum of hights : {total}\")\n",
    "for h in hights:\n",
    "    number += 1\n",
    "print(f\"number of people : {number}\")\n",
    "average = round(total / number)\n",
    "print(f\"average: {average}\")"
   ]
  },
  {
   "cell_type": "code",
   "execution_count": 10,
   "id": "36bdf80b",
   "metadata": {},
   "outputs": [
    {
     "name": "stdout",
     "output_type": "stream",
     "text": [
      "inter the scores separated by a space: 56 64 23 0 98 12 13\n",
      "[56, 64, 23, 0, 98, 12, 13]\n",
      "the highest score is: 98\n"
     ]
    }
   ],
   "source": [
    "#day5-highest score:\n",
    "highest_score = 0\n",
    "scores = input(\"inter the scores separated by a space: \").split( )\n",
    "for i in range (0, len(scores)):\n",
    "    scores[i] = int(scores[i])\n",
    "print(scores)\n",
    "for score in scores:\n",
    "    if score > highest_score:\n",
    "       highest_score = score\n",
    "print(f\"the highest score is: {highest_score}\")"
   ]
  },
  {
   "cell_type": "code",
   "execution_count": 4,
   "id": "e27d15f0",
   "metadata": {},
   "outputs": [
    {
     "name": "stdout",
     "output_type": "stream",
     "text": [
      "5050\n",
      "5050\n",
      "2550\n"
     ]
    }
   ],
   "source": [
    "#day5\n",
    "total = 0\n",
    "for number in range(1,101):\n",
    "    total += number\n",
    "print(total)\n",
    "#####\n",
    "print(sum(range(1,101)))\n",
    "#####\n",
    "print(sum(range(2, 101, 2)))"
   ]
  },
  {
   "cell_type": "code",
   "execution_count": 7,
   "id": "3d132d50",
   "metadata": {},
   "outputs": [
    {
     "name": "stdout",
     "output_type": "stream",
     "text": [
      "1\n",
      "2\n",
      "FIZZ\n",
      "4\n",
      "BUZZ\n",
      "FIZZ\n",
      "7\n",
      "8\n",
      "FIZZ\n",
      "BUZZ\n",
      "11\n",
      "FIZZ\n",
      "13\n",
      "14\n",
      "FIZZ BUZZ\n",
      "16\n",
      "17\n",
      "FIZZ\n",
      "19\n",
      "BUZZ\n"
     ]
    }
   ],
   "source": [
    "#day5-FIZZ BUZZ:\n",
    "for num in range(1,21):\n",
    "    if num % 3 == 0 and num % 5 == 0 :\n",
    "        print(\"FIZZ BUZZ\")\n",
    "    elif num % 3 == 0 :\n",
    "        print(\"FIZZ\")\n",
    "    elif num % 5 == 0 :\n",
    "        print(\"BUZZ\")\n",
    "    else:\n",
    "        print(num)"
   ]
  },
  {
   "cell_type": "code",
   "execution_count": 8,
   "id": "89b6b587",
   "metadata": {},
   "outputs": [
    {
     "name": "stdout",
     "output_type": "stream",
     "text": [
      "welcome to password generator!\n",
      "how many letters would you like in your password? \n",
      "4\n",
      "how many numbers would you like? \n",
      "2\n",
      "how many symbols would you like? \n",
      "3\n",
      "dYJL15$^?\n"
     ]
    }
   ],
   "source": [
    "#day5-password creator 0.1 (easy_level)\n",
    "import random\n",
    "alphabet = [\"q\", \"w\", \"e\", \"r\", \"t\", \"y\", \"u\", \"i\", \"o\", \"p\", \"a\", \"s\", \"d\",\n",
    "            \"f\", \"g\", \"h\", \"j\", \"k\", \"l\", \"z\", \"x\", \"c\", \"v\", \"b\", \"n\", \"m\",\n",
    "            \"Q\", \"W\", \"E\", \"R\", \"T\", \"Y\",\"U\", \"I\", \"O\", \"P\", \"A\", \"S\", \"D\",\n",
    "            \"F\", \"G\", \"H\", \"J\", \"K\", \"L\", \"Z\", \"X\", \"C\", \"V\", \"B\", \"N\", \"M\"]\n",
    "number = [\"0\", \"1\", \"2\", \"3\", \"4\", \"5\", \"6\", \"7\", \"8\", \"9\"]\n",
    "symbol = [\"!\", \"@\", \"#\", \"$\", \"%\", \"^\", \"&\", \"*\", \"(\", \")\", \"_\", \"+\", \"=\", \"?\", \">\"]\n",
    "password = \"\"\n",
    "print(\"welcome to password generator!\")\n",
    "n_alphabet = int(input(\"how many letters would you like in your password? \\n\"))\n",
    "n_number = int(input(\"how many numbers would you like? \\n\"))\n",
    "n_symbol = int(input(\"how many symbols would you like? \\n\"))\n",
    "for i in range(1, n_alphabet + 1):\n",
    "    rand_alphabet = random.choice(alphabet)\n",
    "    password += rand_alphabet\n",
    "for n in range(1, n_number + 1):\n",
    "    rand_number = random.choice(number)\n",
    "    password +=rand_number\n",
    "for x in range(1, n_symbol + 1):\n",
    "    rand_symbol = random.choice(symbol)\n",
    "    password +=rand_symbol\n",
    "print(password)"
   ]
  },
  {
   "cell_type": "code",
   "execution_count": 11,
   "id": "80648a33",
   "metadata": {},
   "outputs": [
    {
     "name": "stdout",
     "output_type": "stream",
     "text": [
      "welcome to password generator!\n",
      "how many letters would you like in your password? \n",
      "6\n",
      "how many numbers would you like? \n",
      "2\n",
      "how many symbols would you like? \n",
      "4\n",
      "yor password is: 4YBs6$Y)(Mh_\n"
     ]
    }
   ],
   "source": [
    "#day5-password creator 0.2 (pro_level)\n",
    "import random\n",
    "alphabet = [\"q\", \"w\", \"e\", \"r\", \"t\", \"y\", \"u\", \"i\", \"o\", \"p\", \"a\", \"s\", \"d\",\n",
    "            \"f\", \"g\", \"h\", \"j\", \"k\", \"l\", \"z\", \"x\", \"c\", \"v\", \"b\", \"n\", \"m\",\n",
    "            \"Q\", \"W\", \"E\", \"R\", \"T\", \"Y\",\"U\", \"I\", \"O\", \"P\", \"A\", \"S\", \"D\",\n",
    "            \"F\", \"G\", \"H\", \"J\", \"K\", \"L\", \"Z\", \"X\", \"C\", \"V\", \"B\", \"N\", \"M\"]\n",
    "number = [\"0\", \"1\", \"2\", \"3\", \"4\", \"5\", \"6\", \"7\", \"8\", \"9\"]\n",
    "symbol = [\"!\", \"@\", \"#\", \"$\", \"%\", \"^\", \"&\", \"*\", \"(\", \")\", \"_\", \"+\", \"=\", \"?\", \">\"]\n",
    "password = []\n",
    "print(\"welcome to password generator!\")\n",
    "n_alphabet = int(input(\"how many letters would you like in your password? \\n\"))\n",
    "n_number = int(input(\"how many numbers would you like? \\n\"))\n",
    "n_symbol = int(input(\"how many symbols would you like? \\n\"))\n",
    "for i in range(1, n_alphabet + 1):\n",
    "    rand_alphabet = random.choice(alphabet)\n",
    "    password +=rand_alphabet\n",
    "for n in range(1, n_number + 1):\n",
    "    rand_number = random.choice(number)\n",
    "    password +=rand_number\n",
    "for x in range(1, n_symbol + 1):\n",
    "    rand_symbol = random.choice(symbol)\n",
    "    password +=rand_symbol\n",
    "random.shuffle(password)\n",
    "finalpassword = ''.join(password)\n",
    "print(f\"yor password is: {finalpassword}\")\n"
   ]
  },
  {
   "cell_type": "code",
   "execution_count": 12,
   "id": "a025e46e",
   "metadata": {},
   "outputs": [
    {
     "name": "stdout",
     "output_type": "stream",
     "text": [
      "Hello!\n",
      "Bye!\n"
     ]
    }
   ],
   "source": [
    "#day6:\n",
    "#1:defining function and call it => \n",
    "# def some_name():\n",
    "    #do this\n",
    "    #do that\n",
    "#some_name(any necessary input)\n",
    "#e.g:\n",
    "def my_function():\n",
    "    print(\"Hello!\")\n",
    "    print(\"Bye!\")\n",
    "my_function()\n",
    "#while loops:\n",
    "#while sth_is_true:\n",
    "    #do_something\n",
    "#reeborg"
   ]
  },
  {
   "cell_type": "code",
   "execution_count": 16,
   "id": "84258f43",
   "metadata": {},
   "outputs": [
    {
     "name": "stdout",
     "output_type": "stream",
     "text": [
      "\n",
      " _                                             \n",
      "| |                                            \n",
      "| |__   __ _ _ __   __ _ _ __ ___   __ _ _ __  \n",
      "| '_ \\ / _` | '_ \\ / _` | '_ ` _ \\ / _` | '_ \\ \n",
      "| | | | (_| | | | | (_| | | | | | | (_| | | | |\n",
      "|_| |_|\\__,_|_| |_|\\__, |_| |_| |_|\\__,_|_| |_|\n",
      "                    __/ |                      \n",
      "                   |___/                       \n",
      "\n",
      "['_', '_', '_', '_', '_', '_']\n",
      "Guess a letter: a\n",
      "['_', '_', '_', '_', 'a', '_']\n",
      "\n",
      "  +---+\n",
      "  |   |\n",
      "      |\n",
      "      |\n",
      "      |\n",
      "      |\n",
      "=========\n",
      "Guess a letter: n\n",
      "['_', '_', '_', '_', 'a', '_']\n",
      "You've guessed: n,That's not in the word. You lose a life.\n",
      "\n",
      "  +---+\n",
      "  |   |\n",
      "  O   |\n",
      "      |\n",
      "      |\n",
      "      |\n",
      "=========\n",
      "Guess a letter: e\n",
      "['_', '_', '_', '_', 'a', '_']\n",
      "You've guessed: e,That's not in the word. You lose a life.\n",
      "\n",
      "  +---+\n",
      "  |   |\n",
      "  O   |\n",
      "  |   |\n",
      "      |\n",
      "      |\n",
      "=========\n",
      "Guess a letter: i\n",
      "['_', 'i', '_', '_', 'a', '_']\n",
      "\n",
      "  +---+\n",
      "  |   |\n",
      "  O   |\n",
      "  |   |\n",
      "      |\n",
      "      |\n",
      "=========\n",
      "Guess a letter: r\n",
      "['_', 'i', '_', '_', 'a', '_']\n",
      "You've guessed: r,That's not in the word. You lose a life.\n",
      "\n",
      "  +---+\n",
      "  |   |\n",
      "  O   |\n",
      " /|   |\n",
      "      |\n",
      "      |\n",
      "=========\n",
      "Guess a letter: o\n",
      "['_', 'i', '_', '_', 'a', '_']\n",
      "You've guessed: o,That's not in the word. You lose a life.\n",
      "\n",
      "  +---+\n",
      "  |   |\n",
      "  O   |\n",
      " /|\\  |\n",
      "      |\n",
      "      |\n",
      "=========\n",
      "Guess a letter: m\n",
      "['_', 'i', '_', 'm', 'a', '_']\n",
      "\n",
      "  +---+\n",
      "  |   |\n",
      "  O   |\n",
      " /|\\  |\n",
      "      |\n",
      "      |\n",
      "=========\n",
      "Guess a letter: n\n",
      "['_', 'i', '_', 'm', 'a', '_']\n",
      "You've guessed: n,That's not in the word. You lose a life.\n",
      "\n",
      "  +---+\n",
      "  |   |\n",
      "  O   |\n",
      " /|\\  |\n",
      " /    |\n",
      "      |\n",
      "=========\n",
      "Guess a letter: w]\n",
      "['_', 'i', '_', 'm', 'a', '_']\n",
      "You've guessed: w],That's not in the word. You lose a life.\n",
      "\n",
      "  +---+\n",
      "  |   |\n",
      "  O   |\n",
      " /|\\  |\n",
      " / \\  |\n",
      "      |\n",
      "=========\n",
      "You lost!\n",
      "The answer was: dismal\n"
     ]
    }
   ],
   "source": [
    "#day7: Hangman\n",
    "\n",
    "stages = [ '''\n",
    "  +---+\n",
    "  |   |\n",
    "  O   |\n",
    " /|\\  |\n",
    " / \\  |\n",
    "      |\n",
    "=========''', '''\n",
    "  +---+\n",
    "  |   |\n",
    "  O   |\n",
    " /|\\  |\n",
    " /    |\n",
    "      |\n",
    "=========''', '''\n",
    "  +---+\n",
    "  |   |\n",
    "  O   |\n",
    " /|\\  |\n",
    "      |\n",
    "      |\n",
    "=========''', '''\n",
    "  +---+\n",
    "  |   |\n",
    "  O   |\n",
    " /|   |\n",
    "      |\n",
    "      |\n",
    "=========''', '''\n",
    "  +---+\n",
    "  |   |\n",
    "  O   |\n",
    "  |   |\n",
    "      |\n",
    "      |\n",
    "=========''', '''\n",
    "  +---+\n",
    "  |   |\n",
    "  O   |\n",
    "      |\n",
    "      |\n",
    "      |\n",
    "=========''','''\n",
    "  +---+\n",
    "  |   |\n",
    "      |\n",
    "      |\n",
    "      |\n",
    "      |\n",
    "=========''']\n",
    "\n",
    "print('''\n",
    " _                                             \n",
    "| |                                            \n",
    "| |__   __ _ _ __   __ _ _ __ ___   __ _ _ __  \n",
    "| '_ \\ / _` | '_ \\ / _` | '_ ` _ \\ / _` | '_ \\ \n",
    "| | | | (_| | | | | (_| | | | | | | (_| | | | |\n",
    "|_| |_|\\__,_|_| |_|\\__, |_| |_| |_|\\__,_|_| |_|\n",
    "                    __/ |                      \n",
    "                   |___/                       \n",
    "''')\n",
    "\n",
    "import random\n",
    "\n",
    "word_list = \"beekeeper bookworm buffalo matrix hogwarts camel abondon keen jealous tact oath vacant gallant data bachelor corpse conceal dismal frigid numb peril recline shriek sinister tempt wager typical minimum scarce annual persuade blend visible expencive talent devise wholesale\".split( )\n",
    "\n",
    "\n",
    "chosen_word = random.choice(word_list)\n",
    "\n",
    "display = []\n",
    "for letter in chosen_word:\n",
    "    display += [\"_\"]\n",
    "print(display)\n",
    "\n",
    "game_over = False\n",
    "lives = 6\n",
    "\n",
    "while not game_over:\n",
    "    guess = input(\"Guess a letter: \"). lower()\n",
    "\n",
    "    if guess in display:\n",
    "        print(f\"You've already guessed: {guess}.\")\n",
    "\n",
    "    for position in range(len(chosen_word)):\n",
    "        letter = chosen_word[position]\n",
    "        if letter == guess :\n",
    "            display[position] = letter\n",
    "    print(display)\n",
    "\n",
    "    if not guess in chosen_word:\n",
    "        lives -= 1\n",
    "        print(f\"You've guessed: {guess},That's not in the word. You lose a life.\")\n",
    "    print(stages[lives])\n",
    "\n",
    "    if lives == 0:\n",
    "        game_over = True\n",
    "        print(\"You lost!\")\n",
    "        print(f\"The answer was: {chosen_word}\")\n",
    "\n",
    "    if not \"_\" in display:\n",
    "        game_over = True\n",
    "        print(\"You Won!\")\n",
    "\n",
    "    "
   ]
  },
  {
   "cell_type": "code",
   "execution_count": 15,
   "id": "4b0ab051",
   "metadata": {},
   "outputs": [
    {
     "name": "stdout",
     "output_type": "stream",
     "text": [
      "hello zari!\n",
      "how are you zari?\n",
      "how is the weather in tehran?\n"
     ]
    }
   ],
   "source": [
    "#day8\n",
    "#function with inputs:\n",
    "# def function(something):\n",
    "#     do this with something\n",
    "#     then do that with something\n",
    "\n",
    "#in a variable \"parameter\" is the name of data that is being passed in and the argument is the value of the data.\n",
    "#e.g: hight = 163 --> hight(parameter)/163(argument)\n",
    "\n",
    "def greet(name, location):\n",
    "    print(f\"hello {name}!\")\n",
    "    print(f\"how are you {name}?\")\n",
    "    print(f\"how is the weather in {location}?\")\n",
    "greet(name = \"zari\", location = \"tehran\")"
   ]
  },
  {
   "cell_type": "code",
   "execution_count": 7,
   "id": "7ff2bd61",
   "metadata": {},
   "outputs": [
    {
     "name": "stdout",
     "output_type": "stream",
     "text": [
      "hight of wall: 6\n",
      "width of wall: 8\n",
      "you'll need 10 cans of paint.\n"
     ]
    }
   ],
   "source": [
    "#day8-area calc\n",
    "#to round up a number you can use \"math.ceil(number)\"\n",
    "import math\n",
    "def paint_calc(hight, width, coverage):\n",
    "    num_of_cans = math.ceil((hight * width) / coverage)\n",
    "    print(f\"you'll need {num_of_cans} cans of paint.\")\n",
    "test_h = int(input(\"hight of wall: \"))\n",
    "test_w = int(input(\"width of wall: \"))\n",
    "cover = 5\n",
    "paint_calc(hight= test_h, width=test_w, coverage = cover)"
   ]
  },
  {
   "cell_type": "code",
   "execution_count": 17,
   "id": "46681f51",
   "metadata": {},
   "outputs": [
    {
     "name": "stdout",
     "output_type": "stream",
     "text": [
      "what number do you want to check? 65\n",
      "it's not a prime number.\n"
     ]
    }
   ],
   "source": [
    "#day8-prime number\n",
    "is_prime = True\n",
    "def prime_checker(number):\n",
    "    for i in range (2,number):\n",
    "        if number % i == 0:\n",
    "            is_prime = False\n",
    "    if is_prime == False:\n",
    "            print(\"it's not a prime number.\")\n",
    "    else:\n",
    "            print(\"it's a prime number.\")\n",
    "            \n",
    "n = int(input(\"what number do you want to check? \"))\n",
    "prime_checker(number = n)"
   ]
  },
  {
   "cell_type": "code",
   "execution_count": 1,
   "id": "80221889",
   "metadata": {},
   "outputs": [
    {
     "name": "stdout",
     "output_type": "stream",
     "text": [
      "type 'encode' to encrypt, and 'decode'to decrypt:\n",
      " encode\n",
      "type your messege:\n",
      " hello im zahra\n",
      "type the shift number:\n",
      " 290\n",
      "the encoded text is: lipps mq delve\n",
      "type 'yes' if you want to go again, otherwise type 'no'.\n",
      "yes\n",
      "type 'encode' to encrypt, and 'decode'to decrypt:\n",
      " decode\n",
      "type your messege:\n",
      " lipps mq delve\n",
      "type the shift number:\n",
      " 290\n",
      "the decoded text is: hello im zahra\n",
      "type 'yes' if you want to go again, otherwise type 'no'.\n",
      "no\n",
      "Goodbye!\n"
     ]
    }
   ],
   "source": [
    "#day8-ceasar cipher:\n",
    "\n",
    "#keeping the names of arguments and parameters diffrent will help us recognise them. so dont use same words so you dont get conffused.\n",
    "# to determind the position of something in a list use \"list_name.index(something)\"\n",
    "#use keyword argument to avoid positional mistake \n",
    "\n",
    "def ceasar(plain_text, shift_amount, code_direction):\n",
    "    cipher_text = \"\"\n",
    "    for letter in plain_text:\n",
    "        if letter in alphabet:\n",
    "            position = alphabet.index(letter)\n",
    "            if direction == \"encode\":\n",
    "                new_position = position + shift_amount\n",
    "            elif direction == \"decode\":\n",
    "                new_position = position - shift_amount\n",
    "            new_letter = alphabet[new_position]\n",
    "        else:\n",
    "            new_letter = letter\n",
    "        cipher_text += new_letter\n",
    "    print(f\"the {direction}d text is: {cipher_text}\")\n",
    "\n",
    "should_continue = True\n",
    "while should_continue == True:\n",
    "    alphabet = ['a', 'b', 'c', 'd', 'e', 'f', 'g', 'h', 'i', 'j', 'k', 'l', 'm', 'n', 'o', 'p', 'q', 'r', 's', 't', 'u', 'v', 'w', 'x', 'y', 'z','a', 'b', 'c', 'd', 'e', 'f', 'g', 'h', 'i', 'j', 'k', 'l', 'm', 'n', 'o', 'p', 'q', 'r', 's', 't', 'u', 'v', 'w', 'x', 'y', 'z']\n",
    "\n",
    "    direction = input(\"type 'encode' to encrypt, and 'decode'to decrypt:\\n \").lower()\n",
    "\n",
    "    text = input(\"type your messege:\\n \").lower()\n",
    "\n",
    "    shift = int(input(\"type the shift number:\\n \")) % 26\n",
    "\n",
    "    ceasar(plain_text=text, shift_amount=shift, code_direction=direction)\n",
    "    result = input(\"type 'yes' if you want to go again, otherwise type 'no'.\\n\")\n",
    "    if result == \"no\":\n",
    "        should_continue = False\n",
    "        print(\"Goodbye!\")\n",
    "\n",
    "#old code with 2 fuctions:\n",
    "# def encrypt(plain_text, shift_amount):\n",
    "#     cipher_text =\"\"\n",
    "#     for letter in plain_text:\n",
    "#         position = alphabet.index(letter)\n",
    "#         new_position = position + shift_amount\n",
    "#         new_letter = alphabet[new_position]\n",
    "#         cipher_text += new_letter\n",
    "#     print(f\"the encoded text is: {cipher_text}\")\n",
    "  \n",
    "\n",
    "# def decrypt(plain_text, shift_amount):\n",
    "#     cipher_text = \"\"\n",
    "#     for letter in plain_text: \n",
    "#         position = alphabet.index(letter)\n",
    "#         new_position = position - shift_amount\n",
    "#         new_letter = alphabet[new_position]\n",
    "#         cipher_text += new_letter\n",
    "#     print(f\"the decoded text is {cipher_text}\")\n",
    "\n",
    "\n",
    "# if direction == \"encode\":\n",
    "#     encrypt(plain_text = text, shift_amount = shift)\n",
    "# elif direction == \"decode\":\n",
    "#     decrypt(plain_text = text, shift_amount = shift)\n",
    "# else:\n",
    "#     print(\"wrong input.\")"
   ]
  },
  {
   "cell_type": "code",
   "execution_count": 7,
   "id": "9dc895d9",
   "metadata": {},
   "outputs": [
    {
     "name": "stdout",
     "output_type": "stream",
     "text": [
      "valeu2\n",
      "{'key1': 'valeu1', 'key2': 'valeu2', 'key3': 'valeu3', 'kay4': 'valeu4'}\n",
      "{'key1': 'a diffrent valeu', 'key2': 'valeu2', 'key3': 'valeu3', 'kay4': 'valeu4'}\n",
      "key1\n",
      "a diffrent valeu\n",
      "key2\n",
      "valeu2\n",
      "key3\n",
      "valeu3\n",
      "kay4\n",
      "valeu4\n",
      "{}\n"
     ]
    }
   ],
   "source": [
    "#day9-Dictionaries:\n",
    "#you'll define a dict by keys and valeus\n",
    "dictionary = {\n",
    "    \"key1\" : \"valeu1\",\n",
    "    \"key2\" : \"valeu2\",\n",
    "    \"key3\" : \"valeu3\",\n",
    "}\n",
    "\n",
    "#retrieving items from dictionary:\n",
    "print(dictionary[\"key2\"])\n",
    "\n",
    "#adding new items to dictionary:\n",
    "dictionary[\"kay4\"] = \"valeu4\"\n",
    "print(dictionary)\n",
    "\n",
    "#edit an item in dictionary:\n",
    "dictionary[\"key1\"] = \"a diffrent valeu\"\n",
    "print(dictionary)\n",
    "#loop through dictionary:\n",
    "for key in dictionary:\n",
    "    print(key)\n",
    "    print(dictionary[key])\n",
    "\n",
    "#wipe an existing dictionary:\n",
    "dictionary = {}\n",
    "print(dictionary)"
   ]
  },
  {
   "cell_type": "code",
   "execution_count": 1,
   "id": "80159b1c",
   "metadata": {},
   "outputs": [
    {
     "name": "stdout",
     "output_type": "stream",
     "text": [
      "{'harry': 'exceeds expactation.', 'ron': 'acceptable.', 'hermionie': 'outstanding!', 'draco': 'failed.'}\n"
     ]
    }
   ],
   "source": [
    "#day9:grding program\n",
    "student_scores = {\n",
    "    \"harry\": 81,\n",
    "    \"ron\": 74,\n",
    "    \"hermionie\":99,\n",
    "    \"draco\": 64\n",
    "}\n",
    "student_grades = {}\n",
    "for key in student_scores:\n",
    "    if student_scores[key] > 90:\n",
    "        student_grades[key]= \"outstanding!\"\n",
    "    elif student_scores[key] > 80:\n",
    "        student_grades[key] = \"exceeds expactation.\"\n",
    "    elif student_scores[key]> 70:\n",
    "        student_grades[key] = \"acceptable.\"\n",
    "    else:\n",
    "        student_grades[key] = \"failed.\"\n",
    "\n",
    "print(student_grades)"
   ]
  },
  {
   "cell_type": "code",
   "execution_count": null,
   "id": "a59d192d",
   "metadata": {},
   "outputs": [],
   "source": [
    "#day9-nesting:\n",
    "#you can put a list or dict inside another dict\n",
    "{\n",
    "    key1:[list],\n",
    "    key2:{dict},\n",
    "}\n",
    "#nesting a list in a dict\n",
    "travel_log={\n",
    "    \"france\":[\"paris\", \"dijon\", \"lille\"]\n",
    "    \"iran\":[\"tehran\",\"isfahan\", \"rasht\"]\n",
    "}\n",
    "\n",
    "#nesting a dict in a dict\n",
    "travel_log={\n",
    "    \"france\":{\"citties_visited\": [\"paris\", \"dijon\", \"lille\"], \"total_visit\": 2},\n",
    "    \"iran\":{\"citties_visited\": [\"tehran\",\"isfahan\", \"rasht\"],\"total_visit\": 5},\n",
    "}\n",
    "\n",
    "#nesting dict in a list\n",
    "travel_log=[\n",
    "    {\n",
    "        \"country\": \"france\",\n",
    "        \"citties_visited\": [\"paris\", \"dijon\", \"lille\"],\n",
    "        \"total_visit\": 2\n",
    "    },\n",
    "    {\"country\": \"iran\",\n",
    "     \"citties_visited\": [\"tehran\",\"isfahan\", \"rasht\"],\n",
    "     \"total_visit\": 5\n",
    "    },\n",
    "]"
   ]
  },
  {
   "cell_type": "code",
   "execution_count": 3,
   "id": "d8969e75",
   "metadata": {},
   "outputs": [
    {
     "name": "stdout",
     "output_type": "stream",
     "text": [
      "[{'country': 'france', 'citties_visited': ['paris', 'dijon', 'lille'], 'total_visit': 2}, {'country': 'iran', 'citties_visited': ['tehran', 'isfahan', 'rasht'], 'total_visit': 5}, {'country': 'italy', 'citties_visited': ['venice', 'rome'], 'total_visit': 2}]\n"
     ]
    }
   ],
   "source": [
    "#day9-dict in list code:\n",
    "travel_log=[\n",
    "    {\n",
    "        \"country\": \"france\",\n",
    "        \"citties_visited\": [\"paris\", \"dijon\", \"lille\"],\n",
    "        \"total_visit\": 2\n",
    "    },\n",
    "    {\"country\": \"iran\",\n",
    "     \"citties_visited\": [\"tehran\",\"isfahan\", \"rasht\"],\n",
    "     \"total_visit\": 5\n",
    "    },\n",
    "]\n",
    "def add_new_country(country_visited,  times_visited, citties_visited):\n",
    "    new_country = {}\n",
    "    new_country[\"country\"]= country_visited\n",
    "    new_country[\"citties_visited\"]= citties_visited\n",
    "    new_country[\"total_visit\"]= times_visited\n",
    "    travel_log.append(new_country)\n",
    "    \n",
    "add_new_country(\"italy\", 2 , [\"venice\",\"rome\"])\n",
    "print(travel_log)"
   ]
  },
  {
   "cell_type": "code",
   "execution_count": 1,
   "id": "0d99b25d",
   "metadata": {},
   "outputs": [
    {
     "name": "stdout",
     "output_type": "stream",
     "text": [
      "what is your name?zar\n",
      "what is your bid? $456\n",
      "is there any other bidders?('yes' or 'no')yes\n",
      "what is your name?lee\n",
      "what is your bid? $231\n",
      "is there any other bidders?('yes' or 'no')no\n",
      "zar wins the bid by $456.\n"
     ]
    }
   ],
   "source": [
    "#day9- blind auction\n",
    "from os import system, name\n",
    "\n",
    "# define our clear function\n",
    "def clear():\n",
    "    # for windows the name is 'nt'\n",
    "    if name == 'nt':\n",
    "        _ = system('cls')\n",
    "\n",
    "# Then, whenever you want to clear the screen, just use this clear function as:\n",
    "#clear()\n",
    "\n",
    "# from art import logo\n",
    "# print(logo)\n",
    "\n",
    "auction = {}\n",
    "\n",
    "con_auction = True\n",
    "\n",
    "while con_auction == True:\n",
    "    name = input(\"what is your name?\")\n",
    "    price = input(\"what is your bid? $\")\n",
    "    auction[name] = price\n",
    "    ask = input(\"is there any other bidders?('yes' or 'no')\").lower()\n",
    "    if ask == 'yes':\n",
    "        clear()\n",
    "    else:\n",
    "        con_auction = False\n",
    "\n",
    "def find_highest_bidder(bidding_record):\n",
    "    highest_bid = 0\n",
    "    winner = \"\"\n",
    "    for bidder in bidding_record:\n",
    "        bid_amount = bidding_record[bidder]\n",
    "        if int(bid_amount) > int(highest_bid):\n",
    "            highest_bid = bid_amount\n",
    "            winner = bidder\n",
    "    print(f\"{winner} wins the bid by ${highest_bid}.\")\n",
    "\n",
    "find_highest_bidder(auction)\n"
   ]
  },
  {
   "cell_type": "code",
   "execution_count": 1,
   "id": "bae5648d",
   "metadata": {},
   "outputs": [
    {
     "name": "stdout",
     "output_type": "stream",
     "text": [
      "6\n"
     ]
    }
   ],
   "source": [
    "#day10: function with outputs\n",
    "def my_function():\n",
    "    result = 3*2\n",
    "    return result\n",
    "output = my_function()\n",
    "print(output)"
   ]
  },
  {
   "cell_type": "code",
   "execution_count": 4,
   "id": "69b04687",
   "metadata": {},
   "outputs": [
    {
     "name": "stdout",
     "output_type": "stream",
     "text": [
      "type your first name: zahra\n",
      "type your last name: mohammadi\n",
      "Zahra Mohammadi\n"
     ]
    }
   ],
   "source": [
    "\"\"\"you can use documantation for a function by writin the \n",
    "explanation between 6 \"\n",
    "you can also use same structure for multiple line comments\n",
    "\"\"\"\n",
    "def format_name(f_name, l_name):\n",
    "    \"\"\"Takes a first and last name and format \n",
    "    it to return a title case version of name.\"\"\"\n",
    "    if first_name ==\"\" or last_name== \"\":\n",
    "        return \"you didn't provide valid inputs.\"\n",
    "    #while ccode reaches the first return,thats the end of code and the rest of code won't be executed.\n",
    "    formated_f_name = f_name.title()\n",
    "    formated_l_name = l_name.title()\n",
    "    return f\"{formated_f_name} {formated_l_name}\"\n",
    "\n",
    "first_name = input(\"type your first name: \")\n",
    "last_name = input(\"type your last name: \")\n",
    "\n",
    "print(format_name(f_name=first_name, l_name= last_name))"
   ]
  },
  {
   "cell_type": "code",
   "execution_count": 6,
   "id": "7cc1da1f",
   "metadata": {},
   "outputs": [
    {
     "name": "stdout",
     "output_type": "stream",
     "text": [
      "inter a year: 2020\n",
      "enter a month: 2\n",
      "29\n"
     ]
    }
   ],
   "source": [
    "#days in month:\n",
    "\n",
    "def is_leap(year):\n",
    "    if year % 4 == 0:\n",
    "        if year % 100 ==0:\n",
    "            if year % 400 ==0 :\n",
    "                return True\n",
    "            else:\n",
    "                return False\n",
    "        else:\n",
    "            return True\n",
    "    else:\n",
    "        return False\n",
    "\n",
    "def days_in_month(year, month):\n",
    "    month_days = [31, 28, 31, 30, 31, 30, 31, 31, 30, 31, 30, 31]\n",
    "    if is_leap(year) == True and month == 2 :\n",
    "        return 29\n",
    "    else:\n",
    "        return month_days[month - 1]\n",
    "\n",
    "\n",
    "year = int(input(\"inter a year: \"))\n",
    "month = int(input(\"enter a month: \"))\n",
    "days = days_in_month(year, month)\n",
    "print(days)"
   ]
  },
  {
   "cell_type": "code",
   "execution_count": null,
   "id": "97e3b464",
   "metadata": {},
   "outputs": [],
   "source": [
    "#black jack 1st try\n",
    "import random\n",
    "cards = [11,2,3,4,5,6,7,8,9,10,10,10,10]\n",
    "\n",
    "user_cards = []\n",
    "comp_cards = []\n",
    "#players start a hand of 2 random card values then add the valeus:\n",
    "for n in range(0,2):\n",
    "    hit = random.choice(cards)\n",
    "    user_cards.append(hit)\n",
    "    hit = random.choice(cards)\n",
    "    comp_cards.append(hit)\n",
    "user_score = sum(user_cards)\n",
    "com_score = sum(comp_cards)\n",
    "print(f\"your score is {user_score} and computer score is {com_score}.\")\n",
    "should_continiue = True\n",
    "while should_continiue:\n",
    "    if user_score == 21:\n",
    "        print(f\"you win. your score{user_score} and computer score {com_score}.\")\n",
    "        break\n",
    "    elif com_score == 21:\n",
    "        print(f\"computer wins. your score{user_score} and computer score {com_score}.\")\n",
    "        break\n",
    "    if user_score > 21:\n",
    "        if cards[0] in user_cards:\n",
    "            user_score -= 10\n",
    "        else:\n",
    "            print(f\"you lose user score {user_score}\")\n",
    "    move = input(\" type 'H' if you want to hit a card and 'S' if you want to stand.\" ).lower()\n",
    "    if move == \"h\":\n",
    "        user_cards.append(hit)\n",
    "    else:\n",
    "        while com_score < 17 :\n",
    "            comp_cards.append(hit)\n",
    "            com_score = sum(comp_cards)\n",
    "\n",
    "        if com_score > 21 :\n",
    "            print(f\"you win.  your score{user_score} and computer score {com_score}.\")\n",
    "            break\n",
    "        else:\n",
    "            if user_score > com_score:\n",
    "                print(f\"you win.  your score{user_score} and computer score {com_score}.\")\n",
    "                break\n",
    "            elif user_score < com_score:\n",
    "                print(f\"you lose. your score{user_score} and computer score {com_score}.\")\n",
    "            else:\n",
    "                print(f\"the game is tied. players score is {user_score}.\")\n"
   ]
  },
  {
   "cell_type": "code",
   "execution_count": null,
   "id": "4c07c968",
   "metadata": {},
   "outputs": [],
   "source": [
    "#blackjack 2nd try\n",
    "import random\n",
    "cards = [11,2,3,4,5,6,7,8,9,10,10,10,10]\n",
    "\n",
    "user_cards = []\n",
    "comp_cards = []\n",
    "user_score = 0\n",
    "comp_score = 0\n",
    "game_over = False\n",
    "#1.players start a hand of 2 random card values then add the valeus and add the cards up:\n",
    "def hit_card(num, player_list):\n",
    "    for i in range(0,num):\n",
    "        rand_card = random.choice(cards)\n",
    "        player_list.append(rand_card)\n",
    "\n",
    "hit_card(2, user_cards)\n",
    "hit_card(2, comp_cards)\n",
    "user_score += sum(user_cards)\n",
    "comp_score += sum(comp_cards)\n",
    "print(f\"your hand: {user_cards}\\n computer's hand [{comp_cards[0]}, ?] \\n your score: {user_score}\")\n",
    "#detect black jack(ace + 10)\n",
    "while not game_over:\n",
    "    if user_score == 21:\n",
    "        print(f\"you got a BlackJack!, you win.\\n your score:{user_score}\\n computer score:{comp_score}\")\n",
    "        game_over = True\n",
    "    elif comp_score == 21:\n",
    "        print(f\"computre got a BlackJack!, you lose.\\n your score:{user_score}\\n computer score:{comp_score}\")\n",
    "        comp_win = True\n",
    "    elif user_score > 21:\n",
    "        if cards[0] in user_cards:\n",
    "            user_score -= 10\n",
    "            if user_score > 21:\n",
    "                print(f\"you passed 21, you lose!\\n your score:{user_score}\\n computer score:{comp_score}\")\n",
    "                game_over = True\n",
    "        else:\n",
    "            print(f\"you passed 21, you lose!\\n your score:{user_score}\\n computer score:{comp_score}\")\n",
    "            game_over = True\n",
    "    elif user_score < 21:\n",
    "        move = input(\"type 'h' to hit a card or type 's' to stand.\").lower()\n",
    "        if move == \"s\":\n",
    "            game_over = True\n"
   ]
  },
  {
   "cell_type": "code",
   "execution_count": null,
   "id": "01d8b068",
   "metadata": {},
   "outputs": [],
   "source": [
    "#blackjack_final version\n",
    "\n",
    "import random\n",
    "\n",
    "user_cards = []\n",
    "comp_cards = []\n",
    "is_game_over = False\n",
    "\n",
    "def deal_card():\n",
    "    \"\"\"\"returns a random card from the deck\"\"\"\n",
    "    cards = [11, 2, 3, 4, 5, 6, 7, 8, 9, 10, 10, 10, 10]\n",
    "    card = random.choice(cards)\n",
    "    return card\n",
    "\n",
    "def calculate_score(cards):\n",
    "    \"\"\"takes a list of cards and calculates the score of them\"\"\"\n",
    "    if len(cards) == 2 and sum(cards) ==21:\n",
    "        return 0\n",
    "    if sum(cards) > 21 and 11 in cards:\n",
    "        cards.remove(11)\n",
    "        cards.append(1)\n",
    "    return sum(cards)\n",
    "\n",
    "def compare(user_score , comp_score):\n",
    "    if user_score > 21 and comp_score > 21:\n",
    "        return \"you went over, you lose.\"\n",
    "    elif user_score == comp_score:\n",
    "        return \"draw!\"\n",
    "    elif comp_score == 0 :\n",
    "        return \"you lose, computer has blackjack.\"\n",
    "    elif user_score == 0 :\n",
    "        return \"you win with a blackjack.\"\n",
    "    elif user_score > 21:\n",
    "        return \"You went over. You lose.\"\n",
    "    elif computer_score > 21:\n",
    "        return \"Opponent went over. You win.\"\n",
    "    elif user_score > computer_score:\n",
    "        return \"You win.\"\n",
    "    else:\n",
    "        return \"You lose.\"\n",
    "def play_game():\n",
    "    for i in range(0,2):\n",
    "        user_cards.append(deal_card())\n",
    "        comp_cards.append(deal_card())\n",
    "    is_game_over = False\n",
    "    while not is_game_over:\n",
    "        user_score = calculate_score(user_cards)\n",
    "        comp_score = calculate_score(comp_cards)\n",
    "        print(f\"    your cards are: {user_cards} and your current score is: {user_score}\" )\n",
    "        print(f\"    first card of computer is: {comp_cards[0]}\")\n",
    "\n",
    "        if user_score == 0 or comp_score == 0 or user_score > 21:\n",
    "            is_game_over = True\n",
    "\n",
    "        #while game isnt over ask the user if they want to hit a card or stand\n",
    "        user_should_deal =input(\"type 'H' to hit another card and type 'S' to stand: \").lower()\n",
    "        if user_should_deal == \"h\":\n",
    "            user_cards.append(deal_card())\n",
    "        elif user_score < 17:\n",
    "            print(\"your score is less than 17.you'd have to draw a card\")\n",
    "            user_cards.append(deal_card())\n",
    "        else:\n",
    "            is_game_over = True\n",
    "\n",
    "    #when user is done computer should keep playing until the score is over 17.\n",
    "    while comp_score!=0 and comp_score < 17:\n",
    "        comp_cards.append(deal_card())\n",
    "        comp_score = calculate_score(comp_cards)\n",
    "\n",
    "    print(f\"   Your final hand: {user_cards}, final score: {user_score}\")\n",
    "    print(f\"   Computer's final hand: {computer_cards}, final score: {computer_score}\")\n",
    "    print(compare(user_score, computer_score))\n",
    "\n",
    "while input(\"Do you want to play a game of Blackjack? Type 'y' or 'n': \") == \"y\":\n",
    "  play_game()"
   ]
  },
  {
   "cell_type": "code",
   "execution_count": 1,
   "id": "4f4e9cb3",
   "metadata": {},
   "outputs": [
    {
     "name": "stdout",
     "output_type": "stream",
     "text": [
      "10\n",
      "10\n"
     ]
    }
   ],
   "source": [
    "#day11\n",
    "# local scope = when define a variable inside a function, you can only access it in the function.\n",
    "#if you call it outside the function you'll get an error.\n",
    "#e.g:\n",
    "# def drink_potion():\n",
    "#     potion_strength = 2\n",
    "#     print (potion_strength)\n",
    "    \n",
    "#global scope = when you define a variable outside a function, it is available both inside and outside the fuction.\n",
    "player_health = 10\n",
    "\n",
    "def drink_potion():\n",
    "    potion_strength = 2\n",
    "    print (player_health)\n",
    "    \n",
    "drink_potion()\n",
    "print(player_health)\n",
    "\n",
    "#there is no block scope in python: that means local scope only defines in a function, and if you creat a variable in other \n",
    "#-blocks of code,e.g:if statements, then it considers as global scope and you'll have no problems.\n",
    "\n",
    "# if you creat a variable inside a function then it'll only be accussble inside the function. but if you creat a variable inside\n",
    "#- a if statment or while/for loop and... it is considered as global scope.\n",
    "\n"
   ]
  },
  {
   "cell_type": "code",
   "execution_count": 2,
   "id": "bfb192dd",
   "metadata": {},
   "outputs": [
    {
     "name": "stdout",
     "output_type": "stream",
     "text": [
      "enemies inside the function: zombie\n",
      "enemies outside the function: alians\n"
     ]
    }
   ],
   "source": [
    "enemies = \"alians\"\n",
    "\n",
    "def increase_enemies():\n",
    "    enemies = \"zombies\"\n",
    "    print(f\"enemies inside the function: {enemies}\")\n",
    "\n",
    "increase_enemies()\n",
    "print(f\"enemies outside the function: {enemies}\")\n",
    "\n",
    "# in the code above in fact we don't change the varible 'enemies'. in fact we're creating a new local variable in the fuction.\n",
    "#and it's usually a bad idea to name your local and global scope the same.\n"
   ]
  },
  {
   "cell_type": "code",
   "execution_count": 5,
   "id": "ac82e679",
   "metadata": {},
   "outputs": [
    {
     "ename": "UnboundLocalError",
     "evalue": "local variable 'enemies' referenced before assignment",
     "output_type": "error",
     "traceback": [
      "\u001b[1;31m---------------------------------------------------------------------------\u001b[0m",
      "\u001b[1;31mUnboundLocalError\u001b[0m                         Traceback (most recent call last)",
      "Input \u001b[1;32mIn [5]\u001b[0m, in \u001b[0;36m<cell line: 7>\u001b[1;34m()\u001b[0m\n\u001b[0;32m      4\u001b[0m     enemies \u001b[38;5;241m+\u001b[39m\u001b[38;5;241m=\u001b[39m \u001b[38;5;241m1\u001b[39m\n\u001b[0;32m      5\u001b[0m     \u001b[38;5;28mprint\u001b[39m(\u001b[38;5;124mf\u001b[39m\u001b[38;5;124m\"\u001b[39m\u001b[38;5;124menemies inside the function: \u001b[39m\u001b[38;5;132;01m{\u001b[39;00menemies\u001b[38;5;132;01m}\u001b[39;00m\u001b[38;5;124m\"\u001b[39m)\n\u001b[1;32m----> 7\u001b[0m \u001b[43mincrease_enemies\u001b[49m\u001b[43m(\u001b[49m\u001b[43m)\u001b[49m\n",
      "Input \u001b[1;32mIn [5]\u001b[0m, in \u001b[0;36mincrease_enemies\u001b[1;34m()\u001b[0m\n\u001b[0;32m      3\u001b[0m \u001b[38;5;28;01mdef\u001b[39;00m \u001b[38;5;21mincrease_enemies\u001b[39m():\n\u001b[1;32m----> 4\u001b[0m     enemies \u001b[38;5;241m+\u001b[39m\u001b[38;5;241m=\u001b[39m \u001b[38;5;241m1\u001b[39m\n\u001b[0;32m      5\u001b[0m     \u001b[38;5;28mprint\u001b[39m(\u001b[38;5;124mf\u001b[39m\u001b[38;5;124m\"\u001b[39m\u001b[38;5;124menemies inside the function: \u001b[39m\u001b[38;5;132;01m{\u001b[39;00menemies\u001b[38;5;132;01m}\u001b[39;00m\u001b[38;5;124m\"\u001b[39m)\n",
      "\u001b[1;31mUnboundLocalError\u001b[0m: local variable 'enemies' referenced before assignment"
     ]
    }
   ],
   "source": [
    "enemies = 3\n",
    "\n",
    "def increase_enemies():\n",
    "    enemies += 1\n",
    "    print(f\"enemies inside the function: {enemies}\")\n",
    "\n",
    "increase_enemies()\n",
    "\n",
    "#if we use a global scope inside a function that needs a local variable we get an local variable eror which says we need to\n",
    "#define the variable inside fuction to do that, we use 'global'.check below"
   ]
  },
  {
   "cell_type": "code",
   "execution_count": 4,
   "id": "37ef5489",
   "metadata": {},
   "outputs": [
    {
     "name": "stdout",
     "output_type": "stream",
     "text": [
      "enemies inside the function: 4\n"
     ]
    }
   ],
   "source": [
    "enemies = 3\n",
    "\n",
    "def increase_enemies():\n",
    "    global enemies\n",
    "    enemies += 1\n",
    "    print(f\"enemies inside the function: {enemies}\")\n",
    "\n",
    "increase_enemies()\n",
    "#modifying global scope can make problems in large codes. so try avoid it.\n",
    "#instead you can use return. check code below"
   ]
  },
  {
   "cell_type": "code",
   "execution_count": 5,
   "id": "e8dcb13e",
   "metadata": {},
   "outputs": [
    {
     "name": "stdout",
     "output_type": "stream",
     "text": [
      "enemies inside the function: 4\n"
     ]
    }
   ],
   "source": [
    "enemies = 3\n",
    "\n",
    "def increase_enemies():\n",
    "    return enemies + 1\n",
    "\n",
    "enemies = increase_enemies()\n",
    "print(f\"enemies inside the function: {enemies}\")\n"
   ]
  },
  {
   "cell_type": "code",
   "execution_count": null,
   "id": "0d041778",
   "metadata": {},
   "outputs": [],
   "source": [
    "#you should be careful with global scopes, but sometime they can be so handy especially with constances you will never change\n",
    "#for e.g pi number or a url. in order to know them save this global scopes all uppercased. then you'll remember that they're global\n",
    "PI = 3.1456\n",
    "URL = \"https:/www.google.com/\"\n",
    "TWEETER_ID = \"@rimorosu\"\n"
   ]
  },
  {
   "cell_type": "code",
   "execution_count": null,
   "id": "8a275a8f",
   "metadata": {},
   "outputs": [],
   "source": [
    "#guess the number\n",
    "from art import logo\n",
    "print(logo)\n",
    "print(\"Welcome to GUESS THE NUMBER! \")\n",
    "\n",
    "import random\n",
    "\n",
    "attempts = 0\n",
    "difficulty = input(\"Choose a difficulty level. type 'Hard' or 'Easy': \").lower()\n",
    "if difficulty == \"hard\":\n",
    "    attempts += 5\n",
    "elif difficulty == \"easy\":\n",
    "    attempts += 7\n",
    "#pick a random num:\n",
    "random_num = random.randint(0,101)\n",
    "\n",
    "is_winning = False\n",
    "\n",
    "while is_winning == False or attempts != 0:\n",
    "    guessed_num = int(input(f\"you have {attempts} attempts, guess a number between(1,100) : \"))\n",
    "    if guessed_num > random_num:\n",
    "        print(\"it's too high.\")\n",
    "        attempts -= 1\n",
    "    elif guessed_num < random_num:\n",
    "        print(\"it is too low.\")\n",
    "        attempts -= 1\n",
    "\n",
    "    elif guessed_num == random_num:\n",
    "        print(\"you've guessed the right number! congratulations!\")\n",
    "        is_winning = True\n",
    "\n",
    "if attempts == 0 and is_winning == False:\n",
    "    print(f\"you've ran out of guesses:(. the number was {random_num}.\")\n",
    "\n"
   ]
  },
  {
   "cell_type": "code",
   "execution_count": null,
   "id": "de5de999",
   "metadata": {},
   "outputs": [],
   "source": [
    "#day13: \n",
    "# debugging:\n",
    "#     1- describe and undrestand the problem.\n",
    "#     2- reproduce the bug. (in the bug that show up occasionally)\n",
    "#     3- fix your errors befor you conteniue. check stack overflow\n",
    "#     4-print() is your best friend.\n",
    "#     5- use a debugger. like \"thony\" or \"pythontutor.com\"\n",
    "#     6- run often:)\n",
    "    "
   ]
  },
  {
   "cell_type": "code",
   "execution_count": null,
   "id": "419c1d09",
   "metadata": {},
   "outputs": [],
   "source": [
    "#higher-lower:compelited\n",
    "from game_data import data\n",
    "import random\n",
    "from art import logo, vs\n",
    "\n",
    "def get_random_account():\n",
    "  \"\"\"Get data from random account\"\"\"\n",
    "  return random.choice(data)\n",
    "\n",
    "def format_data(account):\n",
    "  \"\"\"Format account into printable format: name, description and country\"\"\"\n",
    "  name = account[\"name\"]\n",
    "  description = account[\"description\"]\n",
    "  country = account[\"country\"]\n",
    "  # print(f'{name}: {account[\"follower_count\"]}')\n",
    "  return f\"{name}, a {description}, from {country}\"\n",
    "\n",
    "def check_answer(guess, a_followers, b_followers):\n",
    "  \"\"\"Checks followers against user's guess\n",
    "  and returns True if they got it right.\n",
    "  Or False if they got it wrong.\"\"\"\n",
    "  if a_followers > b_followers:\n",
    "    return guess == \"a\"\n",
    "  else:\n",
    "    return guess == \"b\"\n",
    "\n",
    "\n",
    "def game():\n",
    "  print(logo)\n",
    "  score = 0\n",
    "  game_should_continue = True\n",
    "  account_a = get_random_account()\n",
    "  account_b = get_random_account()\n",
    "\n",
    "  while game_should_continue:\n",
    "    account_a = account_b\n",
    "    account_b = get_random_account()\n",
    "    if account_a == account_b:\n",
    "      account_b = get_random_account()\n",
    "\n",
    "    print(f\"Compare A: {format_data(account_a)}.\")\n",
    "    print(vs)\n",
    "    print(f\"Against B: {format_data(account_b)}.\")\n",
    "\n",
    "    guess = input(\"Who has more followers? Type 'A' or 'B': \").lower()\n",
    "    a_follower_count = account_a[\"follower_count\"]\n",
    "    b_follower_count = account_b[\"follower_count\"]\n",
    "    is_correct = check_answer(guess, a_follower_count, b_follower_count)\n",
    "\n",
    "\n",
    "    print(logo)\n",
    "    if is_correct:\n",
    "      score += 1\n",
    "      print(f\"You're right! Current score: {score}.\")\n",
    "    else:\n",
    "      game_should_continue = False\n",
    "      print(f\"Sorry, that's wrong. Final score: {score}\")\n",
    "\n",
    "game()\n"
   ]
  },
  {
   "cell_type": "code",
   "execution_count": null,
   "id": "d7a16dcb",
   "metadata": {},
   "outputs": [],
   "source": [
    "#coffee-machine:compelited\n",
    "from data import resources\n",
    "from data import menu\n",
    "\n",
    "\n",
    "# todo: report the machine resources\n",
    "def report():\n",
    "    water = resources[\"water\"]\n",
    "    milk = resources[\"milk\"]\n",
    "    coffee = resources[\"coffee\"]\n",
    "    money = resources[\"money\"]\n",
    "    return print(f\"water:{water}ml\\nmilk:{milk}ml\\ncoffee:{coffee}g\\nmoney:${money}\")\n",
    "\n",
    "\n",
    "# todo: check if resources is sufficient\n",
    "def check_sufficient(order_ingeredient):\n",
    "    for item in order_ingeredient:\n",
    "        if int(order_ingeredient[item]) >= int(resources[item]):\n",
    "            print(f\"Sorry there is not enough {item}.\")\n",
    "            return False\n",
    "        else:\n",
    "            return True\n",
    "\n",
    "\n",
    "# todo: process coins\n",
    "# todo: see if transaction was successful?\n",
    "def pay(price):\n",
    "    print(\"please insert coins:\")\n",
    "    quarters = int(input(\"quarters:\"))\n",
    "    dime = int(input(\"dime:\"))\n",
    "    nickle = int(input(\"nickle:\"))\n",
    "    penny = int(input(\"penny:\"))\n",
    "    total_pay = quarters * 0.25 + dime * 0.1 + nickle * 0.05 + penny * 0.01\n",
    "    if total_pay < price:\n",
    "        print(\"Sorry that's not enough money. Money refunded.\")\n",
    "        return False\n",
    "    else:\n",
    "        resources[\"money\"] += price\n",
    "        change = round(total_pay - price, 2)\n",
    "        print(f\"transaction successful, Here is ${change} dollars in change.\")\n",
    "        return True\n",
    "\n",
    "\n",
    "def make_coffee(ingredient):\n",
    "    for item in ingredient:\n",
    "        resources[item] -= int(ingredient[item])\n",
    "    print(\"here is your drink.enjoy it!\")\n",
    "\n",
    "\n",
    "# todo: ask user their order, show it after every loop\n",
    "machine_on = True\n",
    "while machine_on:\n",
    "    order = input(\"What would you like? (espresso/latte/cappuccino):\").lower()\n",
    "    # todo: turn off machine by typing off\n",
    "    if order == \"off\":\n",
    "        machine_on = False\n",
    "        break\n",
    "    elif order == \"report\":\n",
    "        report()\n",
    "    else:\n",
    "        drink = menu[order]\n",
    "        if check_sufficient(drink[\"ingredients\"]):\n",
    "            # todo: make coffee\n",
    "            if pay(drink[\"cost\"]):\n",
    "                make_coffee(drink[\"ingredients\"])\n",
    "\n",
    "                "
   ]
  },
  {
   "cell_type": "code",
   "execution_count": null,
   "id": "ed6337d1",
   "metadata": {},
   "outputs": [],
   "source": []
  },
  {
   "cell_type": "code",
   "execution_count": null,
   "id": "d9049ae2",
   "metadata": {},
   "outputs": [],
   "source": [
    "\"\"\"for multiline editing use:\n",
    "(alt + shift) and the drag for each line.\"\"\"\n",
    "\n",
    "\"\"\"shortcut for running is \n",
    "(shift + f10)\"\"\""
   ]
  },
  {
   "cell_type": "code",
   "execution_count": null,
   "id": "eb4e1c10",
   "metadata": {},
   "outputs": [],
   "source": [
    "#day16:\n",
    "#OOP: object oriented programming\n",
    "\"\"\"we can break a large taske into smaller pieces, that can be worked on by seprated teams. and also all of those \n",
    "pieces can be reusable if we need same functionality\n",
    "in oop we'll model a real-life object.\n",
    "eg:we want to model a waiter:\n",
    "1.what it has->variables associated with a modeled object\n",
    "attributes:{holding_plate = True\n",
    "            tables_responsible=[4,5,6]}\n",
    "2.what he does->function that our model can do\n",
    "methodes: {def take_order():\n",
    "                #give order to chef\n",
    "            def take_money():\n",
    "                #add money to restaurant}\n",
    "object is a way of combaining some data and some functionality,altoghater in a same thing.\n",
    "\n",
    "when we define a class we can make multiple versions of the same objects.\n",
    "class(blueprint)->objects(indevidual objects generated from blueprint)\n",
    "e.g: we have modeled a car(with all of belonging and functionality) its the class,and from this blueprint we can generate \n",
    "real car(what we'll use in our code.)\n",
    "\n",
    "#car = CarBlueprint()\n",
    "for attribute:\n",
    "car.speed->object.attribute\n",
    "for methode:\n",
    "car.stop()->object.methode\n",
    "\n",
    "\"\"\""
   ]
  },
  {
   "cell_type": "code",
   "execution_count": 1,
   "id": "3bb63a65",
   "metadata": {},
   "outputs": [
    {
     "name": "stdout",
     "output_type": "stream",
     "text": [
      "0\n",
      "1\n",
      "0\n",
      "1\n"
     ]
    }
   ],
   "source": [
    "#day17:\n",
    "\"\"\"if you put nothing after an indentation,you'll get an indentation expected error\n",
    " and to debug it you can write 'pass' after indentation\"\"\"\n",
    "# class User:\n",
    "#     def __init__(self):\n",
    "#         print(\"a new user created...\")\n",
    "# \"\"\"to add attributes do as follow:\n",
    "# it's like creating a variable but this time we attached it to an object.\"\"\"\n",
    "# user_1 = User()\n",
    "# user_1.id = \"001\"\n",
    "# user_1.username = \"zar\"\n",
    "#\n",
    "# print(user_1.username)\n",
    "#\n",
    "# user_2 = User()\n",
    "# user_2.id = \"002\"\n",
    "# user_2.username = \"molok\"\n",
    "\n",
    "\"\"\"constructor/initializer:\n",
    "to ser variables or counters to theis starting value.\n",
    "e.g:\n",
    "class Car:\n",
    "    def __init__(self):\n",
    "        #initialise attributes\n",
    "#self stands for actual object that is being created.\n",
    "\n",
    "class Car(self, seats):\n",
    "    def __init__(self, seats):\n",
    "        self.seats = seats\n",
    "#in this function in addition to self, we can add as many parameters as we want. and that parameter will be \n",
    "passed in to object as it constructed from class. and as we received the data we can use it to set the object's \n",
    "attribute.\n",
    "this is how we call our constructor:\n",
    "my_car = Car(5)\n",
    "\n",
    "        \"\"\"\n",
    "\n",
    "\"\"\"to add a method to our class we will simply use def keyword and define a function inside class,\n",
    "but remember the function must have a self parameter inside it.\"\"\"\n",
    "class User:\n",
    "    def __init__(self, user_id, username):\n",
    "        self.id = user_id\n",
    "        self.username = username\n",
    "        self.follower = 0\n",
    "        self.following = 0\n",
    "\n",
    "    def follow(self, user):\n",
    "        self.following += 1\n",
    "        user.follower += 1\n",
    "\n",
    "user_1 = User(\"001\", \"molok\")\n",
    "user_2 = User(\"002\", \"kokab\")\n",
    "\n",
    "user_1.follow(user_2)\n",
    "\n",
    "print(user_1.follower)\n",
    "print(user_1.following)\n",
    "print(user_2.following)\n",
    "print(user_2.follower)"
   ]
  },
  {
   "cell_type": "code",
   "execution_count": null,
   "id": "302156fa",
   "metadata": {},
   "outputs": [],
   "source": []
  }
 ],
 "metadata": {
  "kernelspec": {
   "display_name": "Python 3 (ipykernel)",
   "language": "python",
   "name": "python3"
  },
  "language_info": {
   "codemirror_mode": {
    "name": "ipython",
    "version": 3
   },
   "file_extension": ".py",
   "mimetype": "text/x-python",
   "name": "python",
   "nbconvert_exporter": "python",
   "pygments_lexer": "ipython3",
   "version": "3.9.12"
  }
 },
 "nbformat": 4,
 "nbformat_minor": 5
}
